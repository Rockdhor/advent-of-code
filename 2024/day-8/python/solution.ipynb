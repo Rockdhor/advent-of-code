{
 "cells": [
  {
   "attachments": {},
   "cell_type": "markdown",
   "metadata": {},
   "source": [
    "set up"
   ]
  },
  {
   "cell_type": "code",
   "execution_count": 15,
   "metadata": {},
   "outputs": [],
   "source": [
    "from itertools import combinations\n",
    "inputFileString = \"input.txt\"\n",
    "inputFile = open(inputFileString).readlines()\n",
    "antennaes,antinodes = {},set()\n",
    "for y, row in enumerate(inputFile):\n",
    "    for x, c in enumerate(row.rstrip(\"\\n\")):\n",
    "        if c != \".\":\n",
    "            if c not in antennaes:\n",
    "                antennaes[c] = [(y,x)]\n",
    "            else:\n",
    "                antennaes[c].append((y,x))"
   ]
  },
  {
   "attachments": {},
   "cell_type": "markdown",
   "metadata": {},
   "source": [
    "pt1"
   ]
  },
  {
   "cell_type": "code",
   "execution_count": null,
   "metadata": {},
   "outputs": [],
   "source": [
    "for i in antennaes:\n",
    "        for j in (list(combinations(antennaes[i],2))):\n",
    "            dy, dx = j[1][0]- j[0][0], j[1][1] - j[0][1]\n",
    "            lAntinode , rAntinode = (j[0][0] - dy, j[0][1] - dx), (j[1][0] + dy, j[1][1] + dx)\n",
    "            if not (lAntinode[0] < 0 or lAntinode[1] < 0 or lAntinode[0] > len(row)-1 or lAntinode[1] > len(row)-1): \n",
    "                antinodes.add(lAntinode)\n",
    "            if not (rAntinode[0] < 0 or rAntinode[1] < 0 or rAntinode[0] > len(row)-1 or rAntinode[1] > len(row)-1): \n",
    "                antinodes.add(rAntinode)\n",
    "print(len(antinodes))"
   ]
  },
  {
   "attachments": {},
   "cell_type": "markdown",
   "metadata": {},
   "source": [
    "pt 2"
   ]
  },
  {
   "cell_type": "code",
   "execution_count": 16,
   "metadata": {},
   "outputs": [
    {
     "name": "stdout",
     "output_type": "stream",
     "text": [
      "1032\n"
     ]
    }
   ],
   "source": [
    "for i in antennaes:\n",
    "        for j in (list(combinations(antennaes[i],2))):\n",
    "            dy, dx = j[1][0]- j[0][0], j[1][1] - j[0][1]\n",
    "            lAntinode , rAntinode = (j[0][0] , j[0][1] ), (j[1][0] , j[1][1])\n",
    "            while not (lAntinode[0] < 0 or lAntinode[1] < 0 or lAntinode[0] > len(row)-1 or lAntinode[1] > len(row)-1): \n",
    "                antinodes.add(lAntinode)\n",
    "                lAntinode = (lAntinode[0] - dy, lAntinode[1] - dx)\n",
    "            while not (rAntinode[0] < 0 or rAntinode[1] < 0 or rAntinode[0] > len(row)-1 or rAntinode[1] > len(row)-1): \n",
    "                antinodes.add(rAntinode)\n",
    "                rAntinode = (rAntinode[0] + dy, rAntinode[1] + dx)\n",
    "print(len(antinodes))"
   ]
  }
 ],
 "metadata": {
  "kernelspec": {
   "display_name": "Python 3",
   "language": "python",
   "name": "python3"
  },
  "language_info": {
   "codemirror_mode": {
    "name": "ipython",
    "version": 3
   },
   "file_extension": ".py",
   "mimetype": "text/x-python",
   "name": "python",
   "nbconvert_exporter": "python",
   "pygments_lexer": "ipython3",
   "version": "3.11.4"
  },
  "orig_nbformat": 4
 },
 "nbformat": 4,
 "nbformat_minor": 2
}
